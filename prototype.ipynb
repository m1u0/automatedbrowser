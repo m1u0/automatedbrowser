{
 "cells": [
  {
   "cell_type": "code",
   "execution_count": 1,
   "metadata": {},
   "outputs": [],
   "source": [
    "import numpy as np\n",
    "import pandas as pd\n",
    "\n",
    "# from urllib.parse import urlparse, urljoin\n",
    "from lxml import etree\n",
    "from selenium import webdriver\n",
    "from selenium.webdriver.common.by import By\n",
    "\n",
    "from langchain_openai import OpenAIEmbeddings\n",
    "from langchain_openai.chat_models import ChatOpenAI\n",
    "from langchain.schema import HumanMessage, SystemMessage\n",
    "\n",
    "embedding_model = OpenAIEmbeddings(model=\"text-embedding-3-large\")\n",
    "llm = ChatOpenAI(model=\"gpt-4-turbo\")"
   ]
  },
  {
   "cell_type": "markdown",
   "metadata": {},
   "source": [
    "creating semantic search"
   ]
  },
  {
   "cell_type": "code",
   "execution_count": 2,
   "metadata": {},
   "outputs": [],
   "source": [
    "# searches df[column] for the query\n",
    "def search(query, df, column, model):\n",
    "    query_embedding = model.embed_query(query)\n",
    "\n",
    "    if f\"embeddings: {column}\" not in df.columns:\n",
    "        df[f\"embeddings: {column}\"] = model.embed_documents(list(df[column]))\n",
    "\n",
    "    df[\"similarity\"] = df[f\"embeddings: {column}\"].apply(\n",
    "        lambda x: np.dot(x, query_embedding)\n",
    "    )\n",
    "\n",
    "    return df.sort_values(\"similarity\", ascending=False)"
   ]
  },
  {
   "cell_type": "markdown",
   "metadata": {},
   "source": [
    "getting and filtering elements to feed to the LLM"
   ]
  },
  {
   "cell_type": "code",
   "execution_count": 3,
   "metadata": {},
   "outputs": [],
   "source": [
    "def get_relevant_elements(done_already, phrase, embedding_model, driver):\n",
    "    pagesource = driver.page_source\n",
    "    tree = etree.ElementTree(etree.HTML(pagesource))\n",
    "\n",
    "    elements = pd.DataFrame()\n",
    "    elements[\"element\"] = tree.xpath(\"//a | //button | //h1 | //h2 | //input\")\n",
    "\n",
    "    elements[\"xpath\"] = elements[\"element\"].apply(tree.getpath)\n",
    "    elements = elements[elements[\"xpath\"].apply(is_visible, args=(driver,))]\n",
    "\n",
    "    elements[\"text\"] = elements[\"element\"].apply(get_element_text, args=(tree,))\n",
    "    elements = elements[elements[\"text\"] != \"\"]\n",
    "    elements[\"tag\"] = elements[\"element\"].apply(lambda x: x.tag)\n",
    "\n",
    "    elements = apply_headings(elements)\n",
    "\n",
    "    elements.to_csv(\"output/all_elements.csv\", index=False)\n",
    "\n",
    "    elements = search(phrase, elements, \"text\", embedding_model).head(30)\n",
    "    elements[\"tagandtext\"] = [\n",
    "        f\"{tag}[{text}]\" for tag, text in zip(elements[\"tag\"], elements[\"text\"])\n",
    "    ]\n",
    "    # removing elements that have already been interacted with\n",
    "    elements = elements[~elements[\"tagandtext\"].isin(done_already)]\n",
    "    # temporarily removing footers which are often irrelevant\n",
    "    elements = elements[~elements[\"text\"].str.contains(\"footer\", case=False)]\n",
    "    elements = elements.drop_duplicates(subset=[\"tagandtext\"])\n",
    "    elements[\"tagandtext\"].to_csv(\"output/relevant_elements.csv\", index=False)\n",
    "\n",
    "    return elements\n",
    "\n",
    "\n",
    "def apply_headings(elements):\n",
    "    current_heading = None\n",
    "    to_delete = []\n",
    "    for index, row in elements.iterrows():\n",
    "        if row[\"tag\"] in [\"h1\", \"h2\"]:\n",
    "            if row[\"text\"] != \"\":\n",
    "                current_heading = row[\"text\"]\n",
    "            to_delete.append(index)\n",
    "        else:\n",
    "            if current_heading is not None:\n",
    "                elements.at[index, \"text\"] = (\n",
    "                    current_heading + \" / \" + elements.at[index, \"text\"]\n",
    "                )\n",
    "    elements.drop(to_delete, inplace=True)\n",
    "    return elements\n",
    "\n",
    "\n",
    "# returns empty string if text is not important\n",
    "# TODO: sometimes, the best text is in a child element, e.g. a heading inside a link (see https://jobs.ashbyhq.com/The%20Browser%20Company)\n",
    "def get_element_text(element, tree):\n",
    "    if element.text and element.text.strip():\n",
    "        return element.text.strip()\n",
    "    attr_hierarchy = [\n",
    "        \"aria-label\",\n",
    "        \"placeholder\",\n",
    "        \"title\",\n",
    "        \"href\",\n",
    "    ]\n",
    "    for attr in attr_hierarchy:\n",
    "        if attr in element.attrib:\n",
    "            # return f\"{attr}: {element.attrib[attr].strip()}\"\n",
    "            return element.attrib[attr].strip()\n",
    "\n",
    "    if element.tag == \"input\":\n",
    "        input_id = element.attrib.get(\"id\", \"\")  # Get the id of the input, if it exists\n",
    "        if input_id:\n",
    "            # XPath to find a label with a 'for' attribute that matches the input's id\n",
    "            label = tree.xpath(f\"//label[@for='{input_id}']\")\n",
    "            if label:\n",
    "                # Assumption: There's only one label for each input if found\n",
    "                label_text = label[0].xpath(\n",
    "                    \".//span[@class='form-selector-title']/text()\"\n",
    "                )\n",
    "                if label_text:\n",
    "                    return label_text[0].strip()  # return the text from the found label\n",
    "\n",
    "    return \"\"\n",
    "\n",
    "\n",
    "def is_visible(xpath, driver):\n",
    "    # TODO: fix\n",
    "    #\n",
    "    try:\n",
    "        element = driver.find_element(By.XPATH, xpath)\n",
    "        # some headings return false for is_displayed, but are displayed - look into this\n",
    "        return element.is_displayed() or (\n",
    "            element.tag_name in [\"h1\", \"h2\"] and element.text.strip() != \"\"\n",
    "        )\n",
    "    except Exception:\n",
    "        # print('element not found')\n",
    "        return False"
   ]
  },
  {
   "cell_type": "markdown",
   "metadata": {},
   "source": [
    "creating message to feed to the LLM"
   ]
  },
  {
   "cell_type": "code",
   "execution_count": 4,
   "metadata": {},
   "outputs": [],
   "source": [
    "# this function creates the messages to feed to the chat model\n",
    "def create_messages(goal, done_already, next_task, current_url, relevant_elements):\n",
    "    system_instructions = \"\"\"You are an AI that navigates webpages to complete tasks.\n",
    "\n",
    "As input, you will receive information about the task and a list of elements from the webpage. Many of the elements' text will have a slash (/). The text before the slash is the heading that the element is below; it is useful for context but cannot be used to determine which element to click. The the part after the slash is the text on the element itself, which is indicative of what the element does. Pay attention to whether the element does an action or is for navigation. For example, if the subtask is to add an item to the shopping cart, an element with text \"shopping cart\" will not work; you must find an element with text like \"ADD to shopping cart.\" If the part after the slash does not help complete the task, do not consider that entire element.\n",
    "\n",
    "In multiple seperate lines, respond with an ordered list, numbered 1 to 3, of the three best elements to interact with to accomplish the task, with the first line being the best.\n",
    "\n",
    "In a new line, write a short phrase that describes what interacting with the element above achieved.\n",
    "\n",
    "In the last line, write a short phrase that specifies the user's next subtask.\"\"\"\n",
    "\n",
    "    if len(done_already) == 0:\n",
    "        done_already_str = \"None yet\"\n",
    "    else:\n",
    "        done_already_str = \", \".join(done_already)\n",
    "\n",
    "    prompt = \"\"\"The task is {goal}.\n",
    "    The following elements have already been interacted with {done_already}.\n",
    "    The next subtask is {next_task}. The element you choose to interact with must complete this subtask.\n",
    "    The url of the current page is {current_url}.\n",
    "    List of relevant, interactable elements:\n",
    "    {relevant_elements}\n",
    "\n",
    "    Which element should the user interact with and what is the next subtask?\"\"\".format(\n",
    "        goal=goal,\n",
    "        done_already=done_already_str,\n",
    "        next_task=next_task,\n",
    "        current_url=current_url,\n",
    "        relevant_elements=\"\\n\".join(relevant_elements[\"tagandtext\"]),\n",
    "    )\n",
    "\n",
    "    # save prompt to file\n",
    "    with open(\"output/prompt.txt\", \"w\") as file:\n",
    "        file.write(prompt)\n",
    "\n",
    "    messages = [\n",
    "        SystemMessage(content=system_instructions),\n",
    "        HumanMessage(content=prompt),\n",
    "    ]\n",
    "\n",
    "    system_tokens = len(system_instructions) // 4\n",
    "    message_tokens = len(prompt) // 4\n",
    "    print(f\"System tokens: {system_tokens}\\nInput message tokens: {message_tokens}\")\n",
    "\n",
    "    return messages, message_tokens + system_tokens"
   ]
  },
  {
   "cell_type": "markdown",
   "metadata": {},
   "source": [
    "querying LLM"
   ]
  },
  {
   "cell_type": "code",
   "execution_count": 5,
   "metadata": {},
   "outputs": [],
   "source": [
    "# this function queries the chat model for the first phrase to search\n",
    "def get_first_phrase(goal, url, llm):\n",
    "    prompt = f\"I am already on the webpage {url}. I am trying to {goal}. What is a short phrase that describes the first thing I need to do? Respond with the phrase only.\"\n",
    "\n",
    "    messages = [HumanMessage(content=prompt)]\n",
    "    return query_llm(messages, llm)"
   ]
  },
  {
   "cell_type": "code",
   "execution_count": 6,
   "metadata": {},
   "outputs": [],
   "source": [
    "# this function queries the chat model\n",
    "def query_llm(messages, llm):\n",
    "    rawoutput = llm.invoke(messages, max_tokens=512)\n",
    "    response = rawoutput.dict()[\"content\"].strip()\n",
    "    return response"
   ]
  },
  {
   "cell_type": "code",
   "execution_count": 7,
   "metadata": {},
   "outputs": [],
   "source": [
    "# this function parses the response from the chat model. The first to third last lines are its actions, and the last line is the next step.\n",
    "# it returns a list of string of code to execute\n",
    "def parse_response(response):\n",
    "    lines = [_.strip() for _ in response.splitlines() if len(_.strip()) > 0]\n",
    "\n",
    "    # set todo to the 2nd line to 2nd last line\n",
    "    todo = lines[0:-2]\n",
    "\n",
    "    return todo, lines[-1]"
   ]
  },
  {
   "cell_type": "markdown",
   "metadata": {},
   "source": [
    "interacting with the page"
   ]
  },
  {
   "cell_type": "code",
   "execution_count": 8,
   "metadata": {},
   "outputs": [],
   "source": [
    "# fallback when we haven't implemented the action for a tag\n",
    "def get_interact_code(html, goal, url, llm):\n",
    "    prompt = f\"My Python Selenium Webdriver is on the webpage {url}. I want to interact with the following HTML element: {html}. My goal in interacting with this element is {goal}. It is currently selected with ```python\\nselected_element = driver.find_element(By.XPATH, xpath)``` What is the Python code to interact with the element? Respond with the code only, without any import statements, in a markdown code block. This should take less than 5 statements.\"\n",
    "    # print(f\"prompt: {prompt}\")\n",
    "    messages = [HumanMessage(content=prompt)]\n",
    "\n",
    "    response = query_llm(messages, llm)\n",
    "    print(f\"executing response: {response}\")\n",
    "    code_start_index = response.index(\"```python\") + 9\n",
    "    code_end_index = response.index(\"```\", code_start_index)\n",
    "    code = response[code_start_index:code_end_index].strip(\"\\n\")\n",
    "\n",
    "    return code"
   ]
  },
  {
   "cell_type": "code",
   "execution_count": 9,
   "metadata": {},
   "outputs": [],
   "source": [
    "def interact_element(element, xpath, driver, task, url, goal):\n",
    "    selected_element = driver.find_element(By.XPATH, xpath)\n",
    "    if element.tag in [\"a\", \"button\"]:\n",
    "        selected_element.click()\n",
    "        return\n",
    "    # get html code\n",
    "    html = selected_element.get_attribute(\"outerHTML\")\n",
    "    exec(get_interact_code(html, goal, url, llm))\n",
    "    return"
   ]
  },
  {
   "cell_type": "code",
   "execution_count": 10,
   "metadata": {},
   "outputs": [],
   "source": [
    "# this function takes the goal, the next task, the driver, and the url and interacts with the page\n",
    "def interact_page(goal, next_task, done_already, driver, url, embedding_model, llm):\n",
    "    relevant_elements = get_relevant_elements(\n",
    "        done_already, next_task, embedding_model, driver\n",
    "    )\n",
    "    messages, input_tokens = create_messages(\n",
    "        goal, done_already, next_task, url, relevant_elements\n",
    "    )\n",
    "    input_token_limit = 2048\n",
    "    if input_tokens < input_token_limit:\n",
    "        response = query_llm(messages, llm)\n",
    "        print(f\"response:\\n{response}\")\n",
    "    else:\n",
    "        raise ValueError(\n",
    "            f\"too many tokens\\nthe limit is {input_token_limit}\\nthe input has {input_tokens} tokens\"\n",
    "        )\n",
    "\n",
    "    todo, next_task = parse_response(response)\n",
    "\n",
    "    for todo_item in todo:\n",
    "        # find the element that matches the todo item using search\n",
    "        selected_element = search(\n",
    "            todo_item, relevant_elements, \"tagandtext\", embedding_model\n",
    "        ).iloc[0]\n",
    "        done_already.append(selected_element[\"tagandtext\"])\n",
    "        try:\n",
    "            interact_element(\n",
    "                selected_element[\"element\"],\n",
    "                selected_element[\"xpath\"],\n",
    "                driver,\n",
    "                todo_item,\n",
    "                url,\n",
    "                goal,\n",
    "            )\n",
    "            return next_task, done_already\n",
    "        except Exception:\n",
    "            print(\n",
    "                f\"failed interaction; trying next element (xpath: {selected_element['xpath']})\"\n",
    "            )\n",
    "            pass"
   ]
  },
  {
   "cell_type": "code",
   "execution_count": 11,
   "metadata": {},
   "outputs": [
    {
     "name": "stdout",
     "output_type": "stream",
     "text": [
      "first search phrase: Click on \"Mac\"\n"
     ]
    }
   ],
   "source": [
    "goal = \"add a macbook pro to my cart\"\n",
    "url = \"https://apple.com/\"\n",
    "next_task = get_first_phrase(goal, url, llm)\n",
    "print(f\"first search phrase: {next_task}\")\n",
    "done_already = []\n",
    "driver = webdriver.Chrome()\n",
    "driver.get(url)"
   ]
  },
  {
   "cell_type": "code",
   "execution_count": 17,
   "metadata": {},
   "outputs": [
    {
     "name": "stdout",
     "output_type": "stream",
     "text": [
      "System tokens: 294\n",
      "Input message tokens: 284\n",
      "response:\n",
      "1. button[Pre-Installed Software / Add to Bag]\n",
      "2. a[Shopping Bag]\n",
      "3. button[Pre-Installed Software / Add to Saved Items]\n",
      "\n",
      "Added the configured MacBook Pro to the cart.\n",
      "\n",
      "Next subtask: Proceed to checkout.\n"
     ]
    }
   ],
   "source": [
    "# repeat this cell to perform multiple actions\n",
    "next_task, done_already = interact_page(\n",
    "    goal=goal,\n",
    "    next_task=next_task,\n",
    "    done_already=done_already,\n",
    "    driver=driver,\n",
    "    url=driver.current_url,\n",
    "    embedding_model=embedding_model,\n",
    "    llm=llm,\n",
    ")"
   ]
  }
 ],
 "metadata": {
  "kernelspec": {
   "display_name": "conda",
   "language": "python",
   "name": "python3"
  },
  "language_info": {
   "codemirror_mode": {
    "name": "ipython",
    "version": 3
   },
   "file_extension": ".py",
   "mimetype": "text/x-python",
   "name": "python",
   "nbconvert_exporter": "python",
   "pygments_lexer": "ipython3",
   "version": "3.12.2"
  }
 },
 "nbformat": 4,
 "nbformat_minor": 2
}
